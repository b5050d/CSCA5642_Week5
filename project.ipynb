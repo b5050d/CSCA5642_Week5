{
 "cells": [
  {
   "cell_type": "markdown",
   "metadata": {},
   "source": [
    "# Week 5 Project\n",
    "https://www.kaggle.com/competitions/gan-getting-started/overview\n",
    "\n",
    "### Problem Overview\n",
    "\n",
    "\n",
    "### Data Description"
   ]
  },
  {
   "cell_type": "markdown",
   "metadata": {},
   "source": [
    "## Exploratory Data Analysis\n",
    "\n",
    "### Data Inspection\n",
    "\n",
    "### Data Visualization\n",
    "\n",
    "### Data Cleaning"
   ]
  },
  {
   "cell_type": "markdown",
   "metadata": {},
   "source": [
    "## Model Architecture"
   ]
  },
  {
   "cell_type": "markdown",
   "metadata": {},
   "source": [
    "## Results and Analysis"
   ]
  },
  {
   "cell_type": "markdown",
   "metadata": {},
   "source": [
    "## Conclusion\n",
    "\n",
    "### Learnings and Takeaways\n",
    "\n",
    "### What helped and didn't help\n",
    "\n",
    "### What could be done differently for next time"
   ]
  }
 ],
 "metadata": {
  "language_info": {
   "name": "python"
  }
 },
 "nbformat": 4,
 "nbformat_minor": 2
}
